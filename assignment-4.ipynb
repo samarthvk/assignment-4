{
 "cells": [
  {
   "cell_type": "code",
   "execution_count": null,
   "id": "7ec44e63",
   "metadata": {},
   "outputs": [],
   "source": [
    "1. What exactly is []?\n"
   ]
  },
  {
   "cell_type": "code",
   "execution_count": null,
   "id": "4926b4ef",
   "metadata": {},
   "outputs": [],
   "source": [
    "ans: [] its a empty list.\n",
    "    its used for representing a empty list."
   ]
  },
  {
   "cell_type": "code",
   "execution_count": null,
   "id": "436498ae",
   "metadata": {},
   "outputs": [],
   "source": [
    "2. In a list of values stored in a variable called spam, how would you assign the value as 'hello' as the\n",
    "third value? (Assume [2, 4, 6, 8, 10] are in spam.)"
   ]
  },
  {
   "cell_type": "code",
   "execution_count": 3,
   "id": "c8d1a5d2",
   "metadata": {},
   "outputs": [],
   "source": [
    "#ans\n",
    "spam = [2,4,6,8,10]\n",
    "spam[2] = 'hello'"
   ]
  },
  {
   "cell_type": "code",
   "execution_count": 6,
   "id": "5af58a67",
   "metadata": {},
   "outputs": [
    {
     "data": {
      "text/plain": [
       "[2, 4, 'hello', 8, 10]"
      ]
     },
     "execution_count": 6,
     "metadata": {},
     "output_type": "execute_result"
    }
   ],
   "source": [
    "spam"
   ]
  },
  {
   "cell_type": "code",
   "execution_count": null,
   "id": "4c796090",
   "metadata": {},
   "outputs": [],
   "source": [
    "Let's pretend the spam includes the list ['a','b','c','d'] for the next three queries."
   ]
  },
  {
   "cell_type": "code",
   "execution_count": 7,
   "id": "299910e8",
   "metadata": {},
   "outputs": [],
   "source": [
    "spam = ['a','b','c','d']"
   ]
  },
  {
   "cell_type": "code",
   "execution_count": null,
   "id": "42e5faa9",
   "metadata": {},
   "outputs": [],
   "source": [
    "3. What is the value of spam[int(int('3' * 2) / 11)]?"
   ]
  },
  {
   "cell_type": "code",
   "execution_count": 6,
   "id": "86cfaf6e",
   "metadata": {},
   "outputs": [
    {
     "data": {
      "text/plain": [
       "'d'"
      ]
     },
     "execution_count": 6,
     "metadata": {},
     "output_type": "execute_result"
    }
   ],
   "source": [
    "spam[int(int('3' * 2) / 11)]\n",
    "#ans: 'd'"
   ]
  },
  {
   "cell_type": "code",
   "execution_count": null,
   "id": "a02449ce",
   "metadata": {},
   "outputs": [],
   "source": [
    "4. What is the value of spam[-1]?"
   ]
  },
  {
   "cell_type": "code",
   "execution_count": 7,
   "id": "b73aa112",
   "metadata": {},
   "outputs": [
    {
     "data": {
      "text/plain": [
       "'d'"
      ]
     },
     "execution_count": 7,
     "metadata": {},
     "output_type": "execute_result"
    }
   ],
   "source": [
    "spam[-1]\n",
    "ans:d"
   ]
  },
  {
   "cell_type": "code",
   "execution_count": null,
   "id": "9cc0ae35",
   "metadata": {},
   "outputs": [],
   "source": [
    "5. What is the value of spam[:2]?"
   ]
  },
  {
   "cell_type": "code",
   "execution_count": 8,
   "id": "d943fe67",
   "metadata": {},
   "outputs": [
    {
     "data": {
      "text/plain": [
       "['a', 'b']"
      ]
     },
     "execution_count": 8,
     "metadata": {},
     "output_type": "execute_result"
    }
   ],
   "source": [
    "spam[:2]\n",
    "#ans:['a', 'b']"
   ]
  },
  {
   "cell_type": "code",
   "execution_count": null,
   "id": "b32fbaff",
   "metadata": {},
   "outputs": [],
   "source": [
    "Let's pretend bacon has the list [3.14, 'cat,' 11, 'cat,' True] for the next three questions."
   ]
  },
  {
   "cell_type": "code",
   "execution_count": 8,
   "id": "7d43ed18",
   "metadata": {},
   "outputs": [],
   "source": [
    "bacon = [3.14, 'cat', 11, 'cat',True]"
   ]
  },
  {
   "cell_type": "code",
   "execution_count": null,
   "id": "2256857a",
   "metadata": {},
   "outputs": [],
   "source": [
    "6. What is the value of bacon.index('cat')?"
   ]
  },
  {
   "cell_type": "code",
   "execution_count": 9,
   "id": "8d24a6ed",
   "metadata": {},
   "outputs": [
    {
     "data": {
      "text/plain": [
       "1"
      ]
     },
     "execution_count": 9,
     "metadata": {},
     "output_type": "execute_result"
    }
   ],
   "source": [
    " bacon.index('cat')\n",
    "#ans:1"
   ]
  },
  {
   "cell_type": "code",
   "execution_count": null,
   "id": "11876443",
   "metadata": {},
   "outputs": [],
   "source": [
    "7. How does bacon.append(99) change the look of the list value in bacon?"
   ]
  },
  {
   "cell_type": "code",
   "execution_count": null,
   "id": "f82852c7",
   "metadata": {},
   "outputs": [],
   "source": [
    "ans:append method adds new elements to the end of the list \n",
    "    \n",
    "    [3.14, 'cat', 11, 'cat', True, 99]"
   ]
  },
  {
   "cell_type": "code",
   "execution_count": 14,
   "id": "5e0bf370",
   "metadata": {},
   "outputs": [],
   "source": [
    "bacon.append(99)"
   ]
  },
  {
   "cell_type": "code",
   "execution_count": 15,
   "id": "842b43a1",
   "metadata": {},
   "outputs": [
    {
     "data": {
      "text/plain": [
       "[3.14, 'cat', 11, 'cat', True, 99]"
      ]
     },
     "execution_count": 15,
     "metadata": {},
     "output_type": "execute_result"
    }
   ],
   "source": [
    "bacon"
   ]
  },
  {
   "cell_type": "code",
   "execution_count": null,
   "id": "9cc0d722",
   "metadata": {},
   "outputs": [],
   "source": [
    "8. How does bacon.remove('cat') change the look of the list in bacon?"
   ]
  },
  {
   "cell_type": "code",
   "execution_count": null,
   "id": "7267c22d",
   "metadata": {},
   "outputs": [],
   "source": [
    "ans:remove method removes the first occurence of the element in the list\n",
    "\n",
    "    [3.14, 11, 'cat', True, 99]"
   ]
  },
  {
   "cell_type": "code",
   "execution_count": 16,
   "id": "b84f7ab7",
   "metadata": {},
   "outputs": [],
   "source": [
    "bacon.remove('cat')"
   ]
  },
  {
   "cell_type": "code",
   "execution_count": 17,
   "id": "990d6a81",
   "metadata": {},
   "outputs": [
    {
     "data": {
      "text/plain": [
       "[3.14, 11, 'cat', True, 99]"
      ]
     },
     "execution_count": 17,
     "metadata": {},
     "output_type": "execute_result"
    }
   ],
   "source": [
    "bacon"
   ]
  },
  {
   "cell_type": "code",
   "execution_count": null,
   "id": "444f93aa",
   "metadata": {},
   "outputs": [],
   "source": [
    "9. What are the list concatenation and list replication operators?"
   ]
  },
  {
   "cell_type": "code",
   "execution_count": null,
   "id": "9d795cac",
   "metadata": {},
   "outputs": [],
   "source": [
    "ans:For concatenation we use '+' operator and for replication we use '*' operator"
   ]
  },
  {
   "cell_type": "code",
   "execution_count": 11,
   "id": "08b0d52a",
   "metadata": {},
   "outputs": [
    {
     "data": {
      "text/plain": [
       "'sam_vk'"
      ]
     },
     "execution_count": 11,
     "metadata": {},
     "output_type": "execute_result"
    }
   ],
   "source": [
    "#eg for concatenation\n",
    "\n",
    "\"sam_\"+\"vk\""
   ]
  },
  {
   "cell_type": "code",
   "execution_count": 13,
   "id": "f3d7b3d2",
   "metadata": {},
   "outputs": [
    {
     "data": {
      "text/plain": [
       "'sam_sam_sam_sam_'"
      ]
     },
     "execution_count": 13,
     "metadata": {},
     "output_type": "execute_result"
    }
   ],
   "source": [
    "#eg for replication\n",
    "\"sam_\"*4"
   ]
  },
  {
   "cell_type": "code",
   "execution_count": null,
   "id": "332ad661",
   "metadata": {},
   "outputs": [],
   "source": [
    "10. What is difference between the list methods append() and insert()?"
   ]
  },
  {
   "cell_type": "markdown",
   "id": "f9e1d7fe",
   "metadata": {},
   "source": [
    "ans:append() method is used to add a element in the end of the list,\n",
    "    while by using insert() we can add elememnts anywhere in the list ."
   ]
  },
  {
   "cell_type": "code",
   "execution_count": 23,
   "id": "5d00471f",
   "metadata": {},
   "outputs": [],
   "source": [
    "#using append() method\n",
    "list1= [1,2,3,4,5,6]"
   ]
  },
  {
   "cell_type": "code",
   "execution_count": 24,
   "id": "132fe3c9",
   "metadata": {},
   "outputs": [],
   "source": [
    "list1.append(7)"
   ]
  },
  {
   "cell_type": "code",
   "execution_count": 25,
   "id": "0c60cdae",
   "metadata": {},
   "outputs": [
    {
     "data": {
      "text/plain": [
       "[1, 2, 3, 4, 5, 6, 7]"
      ]
     },
     "execution_count": 25,
     "metadata": {},
     "output_type": "execute_result"
    }
   ],
   "source": [
    "list1"
   ]
  },
  {
   "cell_type": "code",
   "execution_count": 26,
   "id": "0737345d",
   "metadata": {},
   "outputs": [],
   "source": [
    "#using insert() method\n",
    "list1.insert(2,'sam')"
   ]
  },
  {
   "cell_type": "code",
   "execution_count": 27,
   "id": "1fc6cdf3",
   "metadata": {},
   "outputs": [
    {
     "data": {
      "text/plain": [
       "[1, 2, 'sam', 3, 4, 5, 6, 7]"
      ]
     },
     "execution_count": 27,
     "metadata": {},
     "output_type": "execute_result"
    }
   ],
   "source": [
    "list1"
   ]
  },
  {
   "cell_type": "code",
   "execution_count": null,
   "id": "6e1ae845",
   "metadata": {},
   "outputs": [],
   "source": [
    "11. What are the two methods for removing items from a list?"
   ]
  },
  {
   "cell_type": "code",
   "execution_count": null,
   "id": "650739fa",
   "metadata": {},
   "outputs": [],
   "source": [
    "ans:pop() and remove() "
   ]
  },
  {
   "cell_type": "code",
   "execution_count": 35,
   "id": "93ac7642",
   "metadata": {},
   "outputs": [],
   "source": [
    "l1 = [11,22,33,44,55]"
   ]
  },
  {
   "cell_type": "code",
   "execution_count": 36,
   "id": "94828800",
   "metadata": {},
   "outputs": [
    {
     "data": {
      "text/plain": [
       "33"
      ]
     },
     "execution_count": 36,
     "metadata": {},
     "output_type": "execute_result"
    }
   ],
   "source": [
    "l1.pop(2)"
   ]
  },
  {
   "cell_type": "code",
   "execution_count": 37,
   "id": "ecff2c7c",
   "metadata": {},
   "outputs": [],
   "source": [
    "l1.remove(22)"
   ]
  },
  {
   "cell_type": "code",
   "execution_count": 38,
   "id": "12c1e9b3",
   "metadata": {},
   "outputs": [
    {
     "data": {
      "text/plain": [
       "[11, 44, 55]"
      ]
     },
     "execution_count": 38,
     "metadata": {},
     "output_type": "execute_result"
    }
   ],
   "source": [
    "l1"
   ]
  },
  {
   "cell_type": "code",
   "execution_count": null,
   "id": "6fde4c37",
   "metadata": {},
   "outputs": [],
   "source": [
    "for pop() method we give index value and for remove() method we give element which had to be removied."
   ]
  },
  {
   "cell_type": "code",
   "execution_count": null,
   "id": "c113dd51",
   "metadata": {},
   "outputs": [],
   "source": [
    "12. Describe how list values and string values are identical."
   ]
  },
  {
   "cell_type": "code",
   "execution_count": null,
   "id": "2f44f026",
   "metadata": {},
   "outputs": [],
   "source": [
    "ans:Both lists and strings can be passed to len() function,\n",
    "    have indexes and slices,\n",
    "    be used in for loops,\n",
    "    be concatenated or replicated,\n",
    "    and be used with the in and not in operators."
   ]
  },
  {
   "cell_type": "code",
   "execution_count": null,
   "id": "70a80009",
   "metadata": {},
   "outputs": [],
   "source": [
    "13. What's the difference between tuples and lists?"
   ]
  },
  {
   "cell_type": "code",
   "execution_count": null,
   "id": "1315e896",
   "metadata": {},
   "outputs": [],
   "source": [
    "ans:Lists are Mutable,\n",
    "    values can be added, removed, or changed.\n",
    "    lists use the square brackets [].\n",
    "    \n",
    "    \n",
    "    Tuples are Immutable,\n",
    "    the tuple values cannot be changed at all, \n",
    "    tuples are represented using parentheses ()."
   ]
  },
  {
   "cell_type": "code",
   "execution_count": null,
   "id": "30d0d19d",
   "metadata": {},
   "outputs": [],
   "source": [
    "14. How do you type a tuple value that only contains the integer 42?"
   ]
  },
  {
   "cell_type": "code",
   "execution_count": 41,
   "id": "abc610dc",
   "metadata": {},
   "outputs": [],
   "source": [
    "#ans:\n",
    "tup = (42,)"
   ]
  },
  {
   "cell_type": "code",
   "execution_count": 42,
   "id": "cbb5eb27",
   "metadata": {},
   "outputs": [
    {
     "data": {
      "text/plain": [
       "tuple"
      ]
     },
     "execution_count": 42,
     "metadata": {},
     "output_type": "execute_result"
    }
   ],
   "source": [
    "type(tup)"
   ]
  },
  {
   "cell_type": "code",
   "execution_count": null,
   "id": "67cbc625",
   "metadata": {},
   "outputs": [],
   "source": [
    "15. How do you get a list value's tuple form? How do you get a tuple value's list form?"
   ]
  },
  {
   "cell_type": "code",
   "execution_count": 61,
   "id": "f1afb215",
   "metadata": {},
   "outputs": [
    {
     "data": {
      "text/plain": [
       "([1, 2, 3], [44, 55, 66], [444, 555, 666])"
      ]
     },
     "execution_count": 61,
     "metadata": {},
     "output_type": "execute_result"
    }
   ],
   "source": [
    "#ans\n",
    "t1 = ([1,2,3],[44,55,66],[444,555,666])\n",
    "t1"
   ]
  },
  {
   "cell_type": "code",
   "execution_count": 62,
   "id": "7cfdaed7",
   "metadata": {},
   "outputs": [],
   "source": [
    "l1 = [(1, 'sam'), (2, 'abhi'), (3, 'akash'),(4, 'abhay'), (5, 'adarsh')]"
   ]
  },
  {
   "cell_type": "code",
   "execution_count": 63,
   "id": "4c9bd603",
   "metadata": {},
   "outputs": [
    {
     "data": {
      "text/plain": [
       "[(1, 'sam'), (2, 'abhi'), (3, 'akash'), (4, 'abhay'), (5, 'adarsh')]"
      ]
     },
     "execution_count": 63,
     "metadata": {},
     "output_type": "execute_result"
    }
   ],
   "source": [
    "l1"
   ]
  },
  {
   "cell_type": "code",
   "execution_count": null,
   "id": "38046385",
   "metadata": {},
   "outputs": [],
   "source": [
    "16. Variables that \"contain\" list values are not necessarily lists themselves. Instead, what do they contain?"
   ]
  },
  {
   "cell_type": "code",
   "execution_count": 64,
   "id": "63992e5c",
   "metadata": {},
   "outputs": [],
   "source": [
    "#ans:\n",
    "var = [1,2,3,4,5,6,7,8]"
   ]
  },
  {
   "cell_type": "code",
   "execution_count": 65,
   "id": "a83ebb4c",
   "metadata": {},
   "outputs": [
    {
     "data": {
      "text/plain": [
       "list"
      ]
     },
     "execution_count": 65,
     "metadata": {},
     "output_type": "execute_result"
    }
   ],
   "source": [
    "type(var)"
   ]
  },
  {
   "cell_type": "code",
   "execution_count": null,
   "id": "695dfe7a",
   "metadata": {},
   "outputs": [],
   "source": [
    "variables contain references to list values"
   ]
  },
  {
   "cell_type": "code",
   "execution_count": null,
   "id": "f57d5a73",
   "metadata": {},
   "outputs": [],
   "source": [
    "17. How do you distinguish between copy.copy() and copy.deepcopy()?"
   ]
  },
  {
   "cell_type": "code",
   "execution_count": null,
   "id": "3188f609",
   "metadata": {},
   "outputs": [],
   "source": [
    "#ans:\n",
    "copy.copy() means when original object is changed then this copied object will also change,\n",
    "but in deepcopy() when original object is changed the copied objict wi;; not change."
   ]
  }
 ],
 "metadata": {
  "kernelspec": {
   "display_name": "Python 3 (ipykernel)",
   "language": "python",
   "name": "python3"
  },
  "language_info": {
   "codemirror_mode": {
    "name": "ipython",
    "version": 3
   },
   "file_extension": ".py",
   "mimetype": "text/x-python",
   "name": "python",
   "nbconvert_exporter": "python",
   "pygments_lexer": "ipython3",
   "version": "3.9.7"
  }
 },
 "nbformat": 4,
 "nbformat_minor": 5
}
